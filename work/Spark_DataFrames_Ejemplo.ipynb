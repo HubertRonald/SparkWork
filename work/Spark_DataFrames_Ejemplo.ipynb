{
 "cells": [
  {
   "attachments": {},
   "cell_type": "markdown",
   "metadata": {},
   "source": [
    "# Apache Spark: SQL/DataFrames"
   ]
  },
  {
   "attachments": {},
   "cell_type": "markdown",
   "metadata": {},
   "source": [
    "Un DataFrame es una **representación relacional de los datos**. Los DataFrames son similares a las tablas relacionales o DataFrames en Python aunque con muchas optimizaciones que se ejecutan de manera \"oculta\" para el usuario."
   ]
  },
  {
   "cell_type": "code",
   "execution_count": 1,
   "metadata": {},
   "outputs": [],
   "source": [
    "import findspark\n",
    "findspark.init()\n",
    "\n",
    "import pandas as pd\n",
    "import pyspark"
   ]
  },
  {
   "cell_type": "code",
   "execution_count": 2,
   "metadata": {},
   "outputs": [],
   "source": [
    "from pyspark.sql import SparkSession\n",
    "from pyspark.sql.functions import *"
   ]
  },
  {
   "cell_type": "markdown",
   "metadata": {},
   "source": [
    "### Crear la sesión de Spark "
   ]
  },
  {
   "cell_type": "code",
   "execution_count": 3,
   "metadata": {},
   "outputs": [],
   "source": [
    "spark = SparkSession.builder.getOrCreate()"
   ]
  },
  {
   "cell_type": "markdown",
   "metadata": {},
   "source": [
    "### Crear el DataFrame"
   ]
  },
  {
   "cell_type": "code",
   "execution_count": 4,
   "metadata": {},
   "outputs": [],
   "source": [
    "emp = [(1, \"aa\", \"level1\", 2000),\n",
    "    (2, \"bb\", \"level1\", 2200),\n",
    "    (3, \"cc\", \"level2\", 5000),\n",
    "    (4, \"dd\", \"level2\", 6300),\n",
    "    (5, \"ff\", \"level3\", 7200),\n",
    "    (6, \"gg\", \"level3\", 9500)]\n",
    "\n",
    "df = spark.createDataFrame(emp, [\"id\", \"nombre\", \"dept\", \"salary\"])"
   ]
  },
  {
   "cell_type": "code",
   "execution_count": 5,
   "metadata": {},
   "outputs": [
    {
     "name": "stdout",
     "output_type": "stream",
     "text": [
      "+---+------+------+------+\n",
      "| id|nombre|  dept|salary|\n",
      "+---+------+------+------+\n",
      "|  1|    aa|level1|  2000|\n",
      "|  2|    bb|level1|  2200|\n",
      "|  3|    cc|level2|  5000|\n",
      "|  4|    dd|level2|  6300|\n",
      "|  5|    ff|level3|  7200|\n",
      "|  6|    gg|level3|  9500|\n",
      "+---+------+------+------+\n",
      "\n"
     ]
    }
   ],
   "source": [
    "df.show()"
   ]
  },
  {
   "cell_type": "code",
   "execution_count": null,
   "metadata": {},
   "outputs": [],
   "source": []
  }
 ],
 "metadata": {
  "kernelspec": {
   "display_name": "Python 3 (ipykernel)",
   "language": "python",
   "name": "python3"
  },
  "language_info": {
   "codemirror_mode": {
    "name": "ipython",
    "version": 3
   },
   "file_extension": ".py",
   "mimetype": "text/x-python",
   "name": "python",
   "nbconvert_exporter": "python",
   "pygments_lexer": "ipython3",
   "version": "3.11.3"
  },
  "vscode": {
   "interpreter": {
    "hash": "aee8b7b246df8f9039afb4144a1f6fd8d2ca17a180786b69acc140d282b71a49"
   }
  }
 },
 "nbformat": 4,
 "nbformat_minor": 4
}
